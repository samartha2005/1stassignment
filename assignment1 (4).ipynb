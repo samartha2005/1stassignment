{
 "cells": [
  {
   "cell_type": "markdown",
   "id": "cc385760-343e-4e14-8787-52192cb01883",
   "metadata": {},
   "source": [
    "'''Q.1. Declare two variables, `x` and `y`, and assign them integer values. Swap the values of these \n",
    "variables without using any temporary variable.'''\n",
    "\n",
    "x = 5\n",
    "y = 10\n",
    "temp = x\n",
    "x = y\n",
    "y = temp"
   ]
  },
  {
   "cell_type": "markdown",
   "id": "e3d641a5-358a-4cc1-a061-1914b4d5d7e3",
   "metadata": {},
   "source": [
    "#output\n",
    "x "
   ]
  },
  {
   "cell_type": "markdown",
   "id": "a5ba5ba0-421f-4c4a-9727-c48fb33963fd",
   "metadata": {},
   "source": [
    "y"
   ]
  },
  {
   "cell_type": "markdown",
   "id": "243415ef-9c53-4b2a-a5f5-6baf30f4d53c",
   "metadata": {},
   "source": [
    "'''Q.2. Create a program that calculates the area of a rectangle. \n",
    "Take the length and width as inputs from the user and store them in variables.\n",
    "Calculate and display the area.'''\n",
    "\n",
    "l = int(input('Enter the value of length of a rectangle:'))\n",
    "w = int(input('Enter the value of width of a rectangle:'))\n",
    "l*w"
   ]
  },
  {
   "cell_type": "markdown",
   "id": "e3a434d0-1de0-4c0f-9a8a-cce4d72d3c8d",
   "metadata": {},
   "source": [
    "'''3. Write a Python program that converts temperatures from Celsius to Fahrenheit. \n",
    "Take the temperature in Celsius as input, store it in a variable, \n",
    "convert it to Fahrenheit, and display the result.'''\n",
    "\n",
    "c = int(input('Enter the value of celsius:'))\n",
    "c*9/5+32 \n"
   ]
  },
  {
   "cell_type": "markdown",
   "id": "26065198-8c98-432c-998f-33276b1c63d5",
   "metadata": {},
   "source": [
    "'''1. Write a Python program that takes a string as input and prints the length of the string.'''\n",
    "\n",
    "a = input(\"Enter a string: \")\n",
    "print(\"Length of the input string is:\", len(a))\n"
   ]
  },
  {
   "cell_type": "markdown",
   "id": "3013829a-3638-406d-a7a0-0b3a6ed9188a",
   "metadata": {},
   "source": [
    "'''2. Create a program that takes a sentence from the user and counts the number of vowels (a, e, i, o, u) in the string.'''\n",
    "\n",
    "\n",
    "string = input('Enter the string:')\n",
    "vowels = \"aeiouAEIOU\"\n",
    " \n",
    "count = sum(string.count(vowel) for vowel in vowels)\n",
    "print(count)"
   ]
  },
  {
   "cell_type": "markdown",
   "id": "0a8f390f-b25e-4b30-9bd9-854f66d8a4f5",
   "metadata": {},
   "source": [
    "'''3. Given a string, reverse the order of characters using string slicing and print the reversed string.'''\n",
    "\n",
    "s = 'collage'\n",
    "s[::-1]\n"
   ]
  },
  {
   "cell_type": "markdown",
   "id": "6856297f-cba1-4622-a2a5-f57ef940cc58",
   "metadata": {},
   "source": [
    "'''4. Write a program that takes a string as input and checks if it is a palindrome (reads the same forwards and backwards).'''\n",
    "\n",
    "def isPalindrome(s):\n",
    "    return s == s[::-1]\n",
    " \n",
    " \n",
    "#driver code\n",
    "s = input('Enter the string')\n",
    "ans = isPalindrome(s)\n",
    " \n",
    "if ans:\n",
    "    print(\"Yes\")\n",
    "else:\n",
    "    print(\"No\")"
   ]
  },
  {
   "cell_type": "markdown",
   "id": "76084bcc-1c04-40d0-a45f-bd3f8c8d2229",
   "metadata": {},
   "source": [
    "'''5. Create a program that takes a string as input and removes all the spaces from it. \n",
    "Print the modified string without spaces.'''\n",
    "\n",
    "h = input('Enter the string:')\n",
    "h = h.replace(\" \",\"\")\n",
    "print('modified string:' +h)\n"
   ]
  }
 ],
 "metadata": {
  "kernelspec": {
   "display_name": "Python 3 (ipykernel)",
   "language": "python",
   "name": "python3"
  },
  "language_info": {
   "codemirror_mode": {
    "name": "ipython",
    "version": 3
   },
   "file_extension": ".py",
   "mimetype": "text/x-python",
   "name": "python",
   "nbconvert_exporter": "python",
   "pygments_lexer": "ipython3",
   "version": "3.10.8"
  }
 },
 "nbformat": 4,
 "nbformat_minor": 5
}
